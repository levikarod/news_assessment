{
 "cells": [
  {
   "cell_type": "code",
   "execution_count": 1,
   "metadata": {},
   "outputs": [],
   "source": [
    "from peewee import MySQLDatabase, AutoField, CharField, DateField, ForeignKeyField, BooleanField, Model\n",
    "from dotenv import load_dotenv\n",
    "import os"
   ]
  },
  {
   "cell_type": "code",
   "execution_count": 2,
   "metadata": {},
   "outputs": [
    {
     "data": {
      "text/plain": [
       "True"
      ]
     },
     "execution_count": 2,
     "metadata": {},
     "output_type": "execute_result"
    }
   ],
   "source": [
    "# Loading env\n",
    "load_dotenv()\n",
    "\n",
    "# Getting key from .env file\n",
    "db_password = os.getenv(\"CONTRASEÑA\")\n",
    "db_name = \"test1\"\n",
    "db_user = \"root\"\n",
    "\n",
    "# Initializing db\n",
    "db = MySQLDatabase(db_name, user=db_user, password=db_password)\n",
    "\n",
    "\n",
    "# News table declaration\n",
    "\n",
    "class News(Model):\n",
    "    new_id = AutoField()\n",
    "    title = CharField()\n",
    "    description = CharField()\n",
    "    main_image = CharField()\n",
    "    url_article = CharField()\n",
    "    assets = CharField()\n",
    "    symbol = CharField()\n",
    "    release_date = DateField()\n",
    "    published = BooleanField()\n",
    "\n",
    "\n",
    "    class Meta:\n",
    "        database = db\n",
    "\n",
    "db.connect()\n",
    "db.create_tables([News])\n",
    "db.close()"
   ]
  },
  {
   "cell_type": "code",
   "execution_count": 3,
   "metadata": {},
   "outputs": [],
   "source": [
    "def adding_news(new:dict):\n",
    "    \"\"\"\n",
    "    Input: Json with the following structure:\n",
    "    Data structured: {\n",
    "                        \"title\",\n",
    "                        \"description\",\n",
    "                        \"main_image\",\n",
    "                        \"url_article\",\n",
    "                        \"assets\",\n",
    "                        \"symbol\",\n",
    "                        \"release_date\",\n",
    "                        \"publish\"\n",
    "                     }\n",
    "    Output: 1 = Item added to database\n",
    "            2 = Item alreary exists in db\n",
    "            4 = Item could not be added \n",
    "    \"\"\"\n",
    "    \n",
    "    db = MySQLDatabase(db_name, user=db_user, password=db_password)\n",
    "\n",
    "    News.create(title = new[\"title\"], description = new[\"description\"], \n",
    "                         main_image = new[\"main_image\"], url_article = new[\"url_article\"], \n",
    "                         assets = new[\"assets\"], symbol = new[\"symbol\"], release_date = new[\"release_date\"], publish = new[\"publish\"])\n",
    "    \n",
    "    \n",
    "    db.close()"
   ]
  },
  {
   "cell_type": "code",
   "execution_count": 4,
   "metadata": {},
   "outputs": [],
   "source": [
    "data = {\n",
    "            \"title\": \"title\",\n",
    "            \"description\": \"description\",\n",
    "            \"main_image\": \"main_image\",\n",
    "            \"url_article\": \"url_article\",\n",
    "            \"assets\": \"assets\",\n",
    "            \"symbol\": \"symbol\",\n",
    "            \"release_date\": \"release_date\",\n",
    "            \"publish\": \"publish\"\n",
    "        }\n",
    "adding_news(data)"
   ]
  }
 ],
 "metadata": {
  "kernelspec": {
   "display_name": "Python 3",
   "language": "python",
   "name": "python3"
  },
  "language_info": {
   "codemirror_mode": {
    "name": "ipython",
    "version": 3
   },
   "file_extension": ".py",
   "mimetype": "text/x-python",
   "name": "python",
   "nbconvert_exporter": "python",
   "pygments_lexer": "ipython3",
   "version": "3.8.5"
  }
 },
 "nbformat": 4,
 "nbformat_minor": 4
}
